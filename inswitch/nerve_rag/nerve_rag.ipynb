{
 "cells": [
  {
   "cell_type": "markdown",
   "metadata": {},
   "source": [
    "# Agent-based RAG system for Nerve API documentation"
   ]
  },
  {
   "cell_type": "markdown",
   "metadata": {},
   "source": [
    "## Imports"
   ]
  },
  {
   "cell_type": "code",
   "execution_count": 1,
   "metadata": {},
   "outputs": [
    {
     "name": "stderr",
     "output_type": "stream",
     "text": [
      "flaml.automl is not available. Please install flaml[automl] to enable AutoML functionalities.\n"
     ]
    }
   ],
   "source": [
    "from autogen import ConversableAgent, register_function\n",
    "from autogen.agentchat.contrib.retrieve_assistant_agent import RetrieveAssistantAgent\n",
    "from autogen.agentchat.contrib.retrieve_user_proxy_agent import RetrieveUserProxyAgent\n",
    "from chromadb.utils import embedding_functions\n",
    "from autogen.agentchat.contrib.vectordb.base import Document, QueryResults, VectorDB, VectorDBFactory\n",
    "\n",
    "from typing import Callable, List, Tuple, Union\n",
    "import pprint\n",
    "import os\n",
    "import sys\n",
    "import chromadb\n",
    "\n",
    "# Add path\n",
    "sys.path.append('../..')\n",
    "\n",
    "from inswitch.llm.model import get_openai_model_config\n",
    "from inswitch.agent.basic import get_llm_agent\n",
    "from inswitch.agent.ragagent import RagAgent"
   ]
  },
  {
   "cell_type": "code",
   "execution_count": 2,
   "metadata": {},
   "outputs": [],
   "source": [
    "# Configure embedding function with OpenAI embedding\n",
    "llm_config = get_openai_model_config()\n",
    "openai_embedding_function = embedding_functions.OpenAIEmbeddingFunction(api_key = llm_config[\"api_key\"])"
   ]
  },
  {
   "cell_type": "markdown",
   "metadata": {},
   "source": [
    "## Load all relevant Nerve API documents to be added to RAG"
   ]
  },
  {
   "cell_type": "code",
   "execution_count": 3,
   "metadata": {},
   "outputs": [],
   "source": [
    "doc_1 = \"https://docs.nerve.cloud/developer_guide/dna/\"\n",
    "doc_2 = \"https://docs.nerve.cloud/developer_guide/networking/\"\n",
    "doc_3 = \"https://docs.nerve.cloud/developer_guide/codesys/\"\n",
    "doc_4 = \"https://docs.nerve.cloud/developer_guide/ms-api/api-pointers/\"\n",
    "doc_5 = \"https://docs.nerve.cloud/developer_guide/ms-api/api-examples/\""
   ]
  },
  {
   "cell_type": "markdown",
   "metadata": {},
   "source": [
    "## RAG-enhanced agent "
   ]
  },
  {
   "cell_type": "code",
   "execution_count": 4,
   "metadata": {},
   "outputs": [],
   "source": [
    "ragproxyagent = RagAgent(\n",
    "    name=\"ragproxyagent\",\n",
    "    docs_path = [doc_1, doc_2, doc_3, doc_4, doc_5]\n",
    ")"
   ]
  },
  {
   "cell_type": "code",
   "execution_count": 5,
   "metadata": {},
   "outputs": [],
   "source": [
    "assistant_message = \"You're a repeating chatbot. You will be provided with retrieved documents and you will repeat these as output. Please do NOT change the content and do NOT give explanations.\"\n",
    "\n",
    "# Create an instance of RetrieveAssistantAgent\n",
    "assistant = get_llm_agent(\"Assistant\", assistant_message)\n",
    "assistant.reset()"
   ]
  },
  {
   "cell_type": "code",
   "execution_count": 6,
   "metadata": {},
   "outputs": [
    {
     "name": "stderr",
     "output_type": "stream",
     "text": [
      "2024-12-03 10:07:11,026 - autogen.agentchat.contrib.retrieve_user_proxy_agent - INFO - \u001b[32mUse the existing collection `autogen-docs`.\u001b[0m\n"
     ]
    },
    {
     "name": "stdout",
     "output_type": "stream",
     "text": [
      "Trying to create collection.\n"
     ]
    },
    {
     "name": "stderr",
     "output_type": "stream",
     "text": [
      "2024-12-03 10:07:31,765 - autogen.agentchat.contrib.retrieve_user_proxy_agent - INFO - Found 12 chunks.\u001b[0m\n"
     ]
    },
    {
     "name": "stdout",
     "output_type": "stream",
     "text": [
      "VectorDB returns doc_ids:  [['a6653b47', '6992cb4a', '54ec3ed6']]\n",
      "\u001b[32mAdding content of doc a6653b47 to context.\u001b[0m\n",
      "\u001b[32mAdding content of doc 6992cb4a to context.\u001b[0m\n",
      "\u001b[32mAdding content of doc 54ec3ed6 to context.\u001b[0m\n",
      "\u001b[33mragproxyagent\u001b[0m (to Assistant):\n",
      "\n",
      "Retrieved Context: ifferent approaches to get these IDs for Docker Compose workloads and all other workloads through the API. In general, the workflow is the following:\n",
      "\n",
      "```\n",
      "#### API\n",
      "\n",
      "In order to find out workload details, the workload ID and version ID of the workload need to be known. There are different approaches to get these IDs for Docker Compose workloads and all other workloads through the API. In general, the workflow is the following:\n",
      "\n",
      "1. Fetch a list of workloads to get the workload ID.\n",
      "In order to find out workload details, the workload ID and version ID of the workload need to be known. There are different approaches to get these IDs for Docker Compose workloads and all other workloads through the API. In general, the workflow is the following:\n",
      "\n",
      "1. Fetch a list of workloads to get the workload ID.\n",
      "2. Use the workload ID to fetch a list of versions of that workload.\n",
      "3. Take the version ID from the list of workload versions.\n",
      "4. Use the workload ID and version ID to fetch the unique info of the workload version.\n",
      "\n",
      "The steps below are split into three parts to make them easier to follow. They also assume that the user is already logged in. Follow [Trying out the Management System API](../ms-api/api-pointers/#trying-out-the-management-system-api) to log in. Note that Swagger UI is used as a demonstration, as in the Management System API section.\n",
      "\n",
      "##### Getting the workload ID\n",
      "\n",
      "1. Expand **GET /nerve/v3/workloads** under **WORKLOAD**.\n",
      "   \n",
      "   ![Expand GET /nerve/v3/workloads](../img/API10.png)\n",
      "2. Select **Try it out**.\n",
      "3. Select **Execute**.\n",
      "   \n",
      "\n",
      "\n",
      "--------------------------------------------------------------------------------\n",
      "\u001b[31m\n",
      ">>>>>>>> USING AUTO REPLY...\u001b[0m\n",
      "\u001b[33mAssistant\u001b[0m (to ragproxyagent):\n",
      "\n",
      "```\n",
      "#### API\n",
      "\n",
      "In order to find out workload details, the workload ID and version ID of the workload need to be known. There are different approaches to get these IDs for Docker Compose workloads and all other workloads through the API. In general, the workflow is the following:\n",
      "\n",
      "1. Fetch a list of workloads to get the workload ID.\n",
      "In order to find out workload details, the workload ID and version ID of the workload need to be known. There are different approaches to get these IDs for Docker Compose workloads and all other workloads through the API. In general, the workflow is the following:\n",
      "\n",
      "1. Fetch a list of workloads to get the workload ID.\n",
      "2. Use the workload ID to fetch a list of versions of that workload.\n",
      "3. Take the version ID from the list of workload versions.\n",
      "4. Use the workload ID and version ID to fetch the unique info of the workload version.\n",
      "\n",
      "The steps below are split into three parts to make them easier to follow. They also assume that the user is already logged in. Follow [Trying out the Management System API](../ms-api/api-pointers/#trying-out-the-management-system-api) to log in. Note that Swagger UI is used as a demonstration, as in the Management System API section.\n",
      "\n",
      "##### Getting the workload ID\n",
      "\n",
      "1. Expand **GET /nerve/v3/workloads** under **WORKLOAD**.\n",
      "   \n",
      "   ![Expand GET /nerve/v3/workloads](../img/API10.png)\n",
      "2. Select **Try it out**.\n",
      "3. Select **Execute**.\n",
      "```\n",
      "\n",
      "--------------------------------------------------------------------------------\n"
     ]
    }
   ],
   "source": [
    "# Initiate chat: \n",
    "result = ragproxyagent.initiate_chat(assistant, message=ragproxyagent.message_generator, problem=\"I want to obtain API info for deploying docker workload with ID docker3.\")"
   ]
  },
  {
   "cell_type": "code",
   "execution_count": 7,
   "metadata": {},
   "outputs": [
    {
     "name": "stdout",
     "output_type": "stream",
     "text": [
      "VectorDB returns doc_ids:  [['54ec3ed6', '0a8b71e8', '6992cb4a']]\n",
      "[[({'id': '54ec3ed6',\n",
      "    'metadata': {'source': 'https://docs.nerve.cloud/developer_guide/dna/'},\n",
      "    'content': 'In order to find out workload details, the workload ID and '\n",
      "               'version ID of the workload need to be known. There are '\n",
      "               'different approaches to get these IDs for Docker Compose '\n",
      "               'workloads and all other workloads through the API. In general, '\n",
      "               'the workflow is the following:\\n'\n",
      "               '\\n'\n",
      "               '1. Fetch a list of workloads to get the workload ID.\\n'\n",
      "               '2. Use the workload ID to fetch a list of versions of that '\n",
      "               'workload.\\n'\n",
      "               '3. Take the version ID from the list of workload versions.\\n'\n",
      "               '4. Use the workload ID and version ID to fetch the unique info '\n",
      "               'of the workload version.\\n'\n",
      "               '\\n'\n",
      "               'The steps below are split into three parts to make them easier '\n",
      "               'to follow. They also assume that the user is already logged '\n",
      "               'in. Follow [Trying out the Management System '\n",
      "               'API](../ms-api/api-pointers/#trying-out-the-management-system-api) '\n",
      "               'to log in. Note that Swagger UI is used as a demonstration, as '\n",
      "               'in the Management System API section.\\n'\n",
      "               '\\n'\n",
      "               '##### Getting the workload ID\\n'\n",
      "               '\\n'\n",
      "               '1. Expand **GET /nerve/v3/workloads** under **WORKLOAD**.\\n'\n",
      "               '   \\n'\n",
      "               '   ![Expand GET /nerve/v3/workloads](../img/API10.png)\\n'\n",
      "               '2. Select **Try it out**.\\n'\n",
      "               '3. Select **Execute**.\\n'\n",
      "               '   '},\n",
      "   0.16438168287277222),\n",
      "  ({'id': '0a8b71e8',\n",
      "    'metadata': {'source': 'https://docs.nerve.cloud/developer_guide/dna/'},\n",
      "    'content': '2. Use the workload ID to fetch a list of versions of that '\n",
      "               'workload.\\n'\n",
      "               '3. Take the version ID from the list of workload versions.\\n'\n",
      "               '4. Use the workload ID and version ID to fetch the unique info '\n",
      "               'of the workload version.\\n'},\n",
      "   0.16487032175064087),\n",
      "  ({'id': '6992cb4a',\n",
      "    'metadata': {'source': 'https://docs.nerve.cloud/developer_guide/dna/'},\n",
      "    'content': '\\n'\n",
      "               '```\\n'\n",
      "               '#### API\\n'\n",
      "               '\\n'\n",
      "               'In order to find out workload details, the workload ID and '\n",
      "               'version ID of the workload need to be known. There are '\n",
      "               'different approaches to get these IDs for Docker Compose '\n",
      "               'workloads and all other workloads through the API. In general, '\n",
      "               'the workflow is the following:\\n'\n",
      "               '\\n'\n",
      "               '1. Fetch a list of workloads to get the workload ID.'},\n",
      "   0.16551721096038818)]]\n"
     ]
    }
   ],
   "source": [
    "results = ragproxyagent.retrieve_docs(problem = \"I want to obtain info for the workload with ID docker3 and version 3 and hash 5454854754kcnvcl43.\", n_results = 3)\n",
    "pprint.pp(ragproxyagent._results)"
   ]
  }
 ],
 "metadata": {
  "kernelspec": {
   "display_name": "autogen",
   "language": "python",
   "name": "python3"
  },
  "language_info": {
   "codemirror_mode": {
    "name": "ipython",
    "version": 3
   },
   "file_extension": ".py",
   "mimetype": "text/x-python",
   "name": "python",
   "nbconvert_exporter": "python",
   "pygments_lexer": "ipython3",
   "version": "3.10.15"
  }
 },
 "nbformat": 4,
 "nbformat_minor": 2
}
